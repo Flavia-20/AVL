{
  "nbformat": 4,
  "nbformat_minor": 0,
  "metadata": {
    "colab": {
      "provenance": [],
      "authorship_tag": "ABX9TyPy8OZkQhyQ6yrgHO54XKX7",
      "include_colab_link": true
    },
    "kernelspec": {
      "name": "python3",
      "display_name": "Python 3"
    },
    "language_info": {
      "name": "python"
    }
  },
  "cells": [
    {
      "cell_type": "markdown",
      "metadata": {
        "id": "view-in-github",
        "colab_type": "text"
      },
      "source": [
        "<a href=\"https://colab.research.google.com/github/Flavia-20/AVL/blob/main/arvoreAVL.ipynb\" target=\"_parent\"><img src=\"https://colab.research.google.com/assets/colab-badge.svg\" alt=\"Open In Colab\"/></a>"
      ]
    },
    {
      "cell_type": "code",
      "source": [
        "from graphviz import Digraph"
      ],
      "metadata": {
        "id": "erhr-vIvaa4J"
      },
      "execution_count": 66,
      "outputs": []
    },
    {
      "cell_type": "code",
      "execution_count": 67,
      "metadata": {
        "id": "cHwAbWhUVxv3"
      },
      "outputs": [],
      "source": [
        "class No:\n",
        "  def __init__(self, valor):\n",
        "    self.valor = valor\n",
        "    self.esq = None\n",
        "    self.dir = None"
      ]
    },
    {
      "cell_type": "code",
      "source": [
        "class arvore:\n",
        "  def __init__(self):\n",
        "    self.raiz = None\n",
        "\n",
        "  def inserir(self, valor):\n",
        "    novo = No(valor)\n",
        "    if self.raiz == None:\n",
        "      self.raiz = novo\n",
        "    else:\n",
        "      atual = self.raiz\n",
        "      while True:\n",
        "        if valor < atual.valor:\n",
        "            if atual.esq is None:\n",
        "              atual.esq = novo\n",
        "              return\n",
        "            atual = atual.esq\n",
        "        elif valor > atual.valor:\n",
        "            if atual.dir is None:\n",
        "              atual.dir = novo\n",
        "              return\n",
        "            atual = atual.dir\n",
        "        else:\n",
        "            print(f\"Valor {valor} já existe na árvore!\")\n",
        "            return\n",
        "\n",
        "\n",
        "  def buscar(self, valor):\n",
        "\n",
        "      if self.raiz == None:\n",
        "        print(\" A árvore está vazia ou não há mais nós a serem verificados.\")\n",
        "        return\n",
        "\n",
        "      atual = self.raiz\n",
        "      while atual:\n",
        "        if valor == atual.valor:\n",
        "          print(\"Valor encontrado\")\n",
        "          break\n",
        "        elif valor < atual.valor:\n",
        "          atual = atual.esq\n",
        "        else:\n",
        "          atual = atual.dir\n",
        "\n",
        "        if atual == None:\n",
        "          print(\"Valor não encontrado na árvore.\")\n",
        "          return False\n",
        "\n",
        "\n",
        "  def remover(self, valor):\n",
        "        if self.raiz is None:\n",
        "            print(\"A árvore está vazia.\")\n",
        "            return\n",
        "\n",
        "        # Procurar o nó e o pai dele\n",
        "        pai = None\n",
        "        atual = self.raiz\n",
        "\n",
        "        while atual is not None and atual.valor != valor:\n",
        "            pai = atual\n",
        "            if valor < atual.valor:\n",
        "                atual = atual.esq\n",
        "            else:\n",
        "                atual = atual.dir\n",
        "\n",
        "        if atual is None:\n",
        "            print(\"Valor não encontrado na árvore.\")\n",
        "            return\n",
        "\n",
        "        # Caso 1: Nó folha (sem filhos)\n",
        "        if atual.esq is None and atual.dir is None:\n",
        "            if atual == self.raiz:\n",
        "                self.raiz = None\n",
        "            elif pai.esq == atual:\n",
        "                pai.esq = None\n",
        "            else:\n",
        "                pai.dir = None\n",
        "            print(f\"Nó {valor} removido (era uma folha).\")\n",
        "            return\n",
        "\n",
        "        # Caso 2: Nó com apenas um filho\n",
        "        if atual.esq is None or atual.dir is None:\n",
        "            filho = atual.esq if atual.esq else atual.dir\n",
        "\n",
        "            if atual == self.raiz:\n",
        "                self.raiz = filho\n",
        "            elif pai.esq == atual:\n",
        "                pai.esq = filho\n",
        "            else:\n",
        "                pai.dir = filho\n",
        "            print(f\"Nó {valor} removido (tinha um filho).\")\n",
        "            return\n",
        "\n",
        "        # Caso 3: Nó com dois filhos\n",
        "        # Encontrar o sucessor (definido pelo menor da subárvore direita)\n",
        "        pai_sucessor = atual\n",
        "        sucessor = atual.dir\n",
        "        while sucessor.esq:\n",
        "            pai_sucessor = sucessor\n",
        "            sucessor = sucessor.esq\n",
        "\n",
        "        # Substituir o valor do nó atual pelo do sucessor\n",
        "        atual.valor = sucessor.valor\n",
        "\n",
        "        # Remover o sucessor (que terá no máximo 1 filho à direita)\n",
        "        if pai_sucessor.esq == sucessor:\n",
        "            pai_sucessor.esq = sucessor.dir\n",
        "        else:\n",
        "            pai_sucessor.dir = sucessor.dir\n",
        "\n",
        "        print(f\"Nó {valor} removido (tinha dois filhos, substituído por {sucessor.valor}).\")\n",
        "\n",
        "\n",
        "  def percurso_em_ordem(self, no):\n",
        "    if no is not None:\n",
        "        self.percurso_em_ordem(no.esq)\n",
        "        print(no.valor, end=' ')\n",
        "        self.percurso_em_ordem(no.dir)\n",
        "\n",
        "  def percurso_pre_ordem(self, no):\n",
        "      if no is not None:\n",
        "        print(no.valor, end=' ')\n",
        "        self.percurso_pre_ordem(no.esq)\n",
        "        self.percurso_pre_ordem(no.dir)\n",
        "\n",
        "\n",
        "  def percurso_pos_ordem(self, no):\n",
        "    if no is not None:\n",
        "        self.percurso_pos_ordem(no.esq)\n",
        "        self.percurso_pos_ordem(no.dir)\n",
        "        print(no.valor, end=' ')\n",
        "\n"
      ],
      "metadata": {
        "id": "EPp92zs9V15x"
      },
      "execution_count": 68,
      "outputs": []
    },
    {
      "cell_type": "code",
      "source": [
        "arv = arvore()\n",
        "print(f\"Inserção em Árvore Binária de Busca\")\n",
        "while True:\n",
        "  valor = input(\"Digite um valor inteiro ou 'sair': \")\n",
        "  if valor.lower() == 'sair':\n",
        "    break\n",
        "  elif valor == \"\":\n",
        "    print(\"Digite uma opção válida!\")\n",
        "    continue\n",
        "  else:\n",
        "    arv.inserir(int(valor))\n",
        "\n",
        "print(\"Inserção finalizada.\")"
      ],
      "metadata": {
        "colab": {
          "base_uri": "https://localhost:8080/"
        },
        "id": "IiWGOEShZYf4",
        "outputId": "3bae1612-11e1-41e8-cb53-194155fb423a"
      },
      "execution_count": 69,
      "outputs": [
        {
          "output_type": "stream",
          "name": "stdout",
          "text": [
            "Inserção em Árvore Binária de Busca\n",
            "Digite um valor inteiro ou 'sair': 12\n",
            "Digite um valor inteiro ou 'sair': 45\n",
            "Digite um valor inteiro ou 'sair': 65\n",
            "Digite um valor inteiro ou 'sair': 89\n",
            "Digite um valor inteiro ou 'sair': 4\n",
            "Digite um valor inteiro ou 'sair': 7\n",
            "Digite um valor inteiro ou 'sair': 5\n",
            "Digite um valor inteiro ou 'sair': 89\n",
            "Valor 89 já existe na árvore!\n",
            "Digite um valor inteiro ou 'sair': sair\n",
            "Inserção finalizada.\n"
          ]
        }
      ]
    },
    {
      "cell_type": "code",
      "source": [
        "def desenhar_arvore(no, dot=None):\n",
        "  if dot is None:\n",
        "    dot = Digraph()\n",
        "    dot.graph_attr['rankdir'] = 'TB'\n",
        "    dot.attr('node', shape='circle')\n",
        "\n",
        "  if no:\n",
        "    dot.node(str(no.valor))\n",
        "\n",
        "    if no.esq:\n",
        "      dot.edge(str(no.valor), str(no.esq.valor), label='esq')\n",
        "      desenhar_arvore(no.esq, dot)\n",
        "\n",
        "    if no.dir:\n",
        "      dot.edge(str(no.valor), str(no.dir.valor), label='dir')\n",
        "      desenhar_arvore(no.dir, dot)\n",
        "\n",
        "  return dot"
      ],
      "metadata": {
        "id": "OHey5MbmagyY"
      },
      "execution_count": 70,
      "outputs": []
    },
    {
      "cell_type": "code",
      "source": [
        "print(f\"Gerando visualização a árvore...\")\n",
        "\n",
        "dot = desenhar_arvore(arv.raiz)\n",
        "dot.render('arvore_binária', format='png', cleanup=True)\n",
        "print(\"Árvore salva como arvore_binária.png\")"
      ],
      "metadata": {
        "id": "lRAqqkMLbVR7",
        "colab": {
          "base_uri": "https://localhost:8080/"
        },
        "outputId": "0d1ba4d2-65b3-4cdf-95e9-c2adf9b143f3"
      },
      "execution_count": 71,
      "outputs": [
        {
          "output_type": "stream",
          "name": "stdout",
          "text": [
            "Gerando visualização a árvore...\n",
            "Árvore salva como arvore_binária.png\n"
          ]
        }
      ]
    },
    {
      "cell_type": "code",
      "source": [
        "print(\"Percurso em-ordem (inorder):\")\n",
        "arv.percurso_em_ordem(arv.raiz)"
      ],
      "metadata": {
        "colab": {
          "base_uri": "https://localhost:8080/"
        },
        "id": "scLLkUZ9giFx",
        "outputId": "43e4722a-6e5e-4c6d-e0d8-82ae069bf390"
      },
      "execution_count": 72,
      "outputs": [
        {
          "output_type": "stream",
          "name": "stdout",
          "text": [
            "Percurso em-ordem (inorder):\n",
            "4 5 7 12 45 65 89 "
          ]
        }
      ]
    },
    {
      "cell_type": "code",
      "source": [
        "print(\"Percurso pre-ordem (preorder):\")\n",
        "arv.percurso_pre_ordem(arv.raiz)"
      ],
      "metadata": {
        "colab": {
          "base_uri": "https://localhost:8080/"
        },
        "id": "P3bXWe59iR-h",
        "outputId": "2418d051-1a1c-49af-d468-47d84505c952"
      },
      "execution_count": 73,
      "outputs": [
        {
          "output_type": "stream",
          "name": "stdout",
          "text": [
            "Percurso pre-ordem (preorder):\n",
            "12 4 7 5 45 65 89 "
          ]
        }
      ]
    },
    {
      "cell_type": "code",
      "source": [
        "print(\"Percurso pós-ordem (postorder):\")\n",
        "arv.percurso_pos_ordem(arv.raiz)"
      ],
      "metadata": {
        "colab": {
          "base_uri": "https://localhost:8080/"
        },
        "id": "8WgZLaC1jMZ_",
        "outputId": "efb10b6f-e2b2-4082-96d3-7a1de62c0207"
      },
      "execution_count": 74,
      "outputs": [
        {
          "output_type": "stream",
          "name": "stdout",
          "text": [
            "Percurso pós-ordem (postorder):\n",
            "5 7 4 89 65 45 12 "
          ]
        }
      ]
    },
    {
      "cell_type": "code",
      "source": [
        "valor_busca = int(input(\"Digite um valor inteiro: \"))\n",
        "print(f\"Buscando...\")\n",
        "arv.buscar(valor_busca)"
      ],
      "metadata": {
        "colab": {
          "base_uri": "https://localhost:8080/"
        },
        "id": "Jm4_Mx0OeMT_",
        "outputId": "a0f78044-df8d-42a2-e430-4fd535f9a0b7"
      },
      "execution_count": 75,
      "outputs": [
        {
          "output_type": "stream",
          "name": "stdout",
          "text": [
            "Digite um valor inteiro: 12\n",
            "Buscando...\n",
            "Valor encontrado\n"
          ]
        }
      ]
    },
    {
      "cell_type": "code",
      "source": [
        "valor_removido =int(input(\"Digite um valor inteiro: \"))\n",
        "print(f\"Removendo...\")\n",
        "arv.remover(valor_removido)"
      ],
      "metadata": {
        "colab": {
          "base_uri": "https://localhost:8080/"
        },
        "id": "4v94oShBGQcQ",
        "outputId": "6bcd72b1-c8d8-4af2-c6ab-aa5927e9ae2a"
      },
      "execution_count": 76,
      "outputs": [
        {
          "output_type": "stream",
          "name": "stdout",
          "text": [
            "Digite um valor inteiro: 45\n",
            "Removendo...\n",
            "Nó 45 removido (tinha um filho).\n"
          ]
        }
      ]
    },
    {
      "cell_type": "code",
      "source": [
        "print(f\"Gerando visualização a árvore...\")\n",
        "\n",
        "dot = desenhar_arvore(arv.raiz)\n",
        "dot.render('arvore_binária_removida', format='png', cleanup=True)\n",
        "print(\"Árvore salva como arvore_binária_removida.png\")"
      ],
      "metadata": {
        "id": "nNqgKzLhGY6X",
        "colab": {
          "base_uri": "https://localhost:8080/"
        },
        "outputId": "bd9f3185-7cb3-4c86-c2cd-0be60e9f524f"
      },
      "execution_count": 77,
      "outputs": [
        {
          "output_type": "stream",
          "name": "stdout",
          "text": [
            "Gerando visualização a árvore...\n",
            "Árvore salva como arvore_binária_removida.png\n"
          ]
        }
      ]
    },
    {
      "cell_type": "code",
      "source": [],
      "metadata": {
        "id": "Gtumo44Nbovl"
      },
      "execution_count": 77,
      "outputs": []
    }
  ]
}